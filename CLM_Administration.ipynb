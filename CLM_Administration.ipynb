{
  "nbformat": 4,
  "nbformat_minor": 0,
  "metadata": {
    "colab": {
      "name": "CLM Administration.ipynb",
      "provenance": [],
      "mount_file_id": "1b2Obob8dp4gxHA8H19PURmM1SodhtEhv",
      "authorship_tag": "ABX9TyNACSZSevdVBLD7PoVfDi2i",
      "include_colab_link": true
    },
    "kernelspec": {
      "name": "python3",
      "display_name": "Python 3"
    }
  },
  "cells": [
    {
      "cell_type": "markdown",
      "metadata": {
        "id": "view-in-github",
        "colab_type": "text"
      },
      "source": [
        "<a href=\"https://colab.research.google.com/github/Sirabhop/CLM/blob/master/CLM_Administration.ipynb\" target=\"_parent\"><img src=\"https://colab.research.google.com/assets/colab-badge.svg\" alt=\"Open In Colab\"/></a>"
      ]
    },
    {
      "cell_type": "code",
      "metadata": {
        "id": "AMwlmCdoKfEr",
        "colab_type": "code",
        "colab": {}
      },
      "source": [
        "!pip install --upgrade gspread"
      ],
      "execution_count": null,
      "outputs": []
    },
    {
      "cell_type": "code",
      "metadata": {
        "id": "_kVOD5ab9RCF",
        "colab_type": "code",
        "colab": {}
      },
      "source": [
        "import pandas as pd\n",
        "import os\n",
        "import gspread"
      ],
      "execution_count": 16,
      "outputs": []
    },
    {
      "cell_type": "code",
      "metadata": {
        "id": "cRnnKiQNJ58m",
        "colab_type": "code",
        "colab": {}
      },
      "source": [
        "gc = gspread.service_account('/content/drive/My Drive/My CLM project/Machine Learning/credential/infinite-deck-288214-a013e2afcf8a.json')\n",
        "sheet = gc.open('CLM Note')\n",
        "\n",
        "Admin = sheet.worksheet('Admin')\n",
        "Admin = pd.DataFrame(Admin.get_all_records())"
      ],
      "execution_count": 5,
      "outputs": []
    },
    {
      "cell_type": "code",
      "metadata": {
        "id": "dAhWJIEE9cp1",
        "colab_type": "code",
        "colab": {}
      },
      "source": [
        "os.chdir(\"/content/drive/My Drive/My CLM project/Machine Learning\")"
      ],
      "execution_count": 23,
      "outputs": []
    },
    {
      "cell_type": "code",
      "metadata": {
        "id": "aZkU4vRGKPR_",
        "colab_type": "code",
        "colab": {}
      },
      "source": [
        "usecols = range(1,27)\n",
        "CallReport = pd.read_excel(\"Call Report CLM Date 01-30 Aug 2020.xlsx\", header = 2,\n",
        "                           usecols = usecols)"
      ],
      "execution_count": 38,
      "outputs": []
    },
    {
      "cell_type": "code",
      "metadata": {
        "id": "xRS8SZTON8Mw",
        "colab_type": "code",
        "colab": {
          "base_uri": "https://localhost:8080/",
          "height": 85
        },
        "outputId": "03304a76-6d91-42c7-f490-e49a730156a5"
      },
      "source": [
        "CallReport.iloc[0, 6:17].values"
      ],
      "execution_count": 51,
      "outputs": [
        {
          "output_type": "execute_result",
          "data": {
            "text/plain": [
              "array(['สมัครบริการ Offer 1', '% Success Offer 1', 'สมัครบริการ Offer 2',\n",
              "       '% Success Offer 2', 'Total สมัครบริการ', 'Call Back', 'Bad Lead',\n",
              "       'Follow Up', 'สนใจแต่ติดเงื่อนไข', 'ปฏิเสธ', 'After Sale'],\n",
              "      dtype=object)"
            ]
          },
          "metadata": {
            "tags": []
          },
          "execution_count": 51
        }
      ]
    },
    {
      "cell_type": "code",
      "metadata": {
        "id": "X3AjqbLyQLrJ",
        "colab_type": "code",
        "colab": {
          "base_uri": "https://localhost:8080/",
          "height": 136
        },
        "outputId": "edc3d2b0-3e57-4077-af96-e3912d130226"
      },
      "source": [
        "CallReport.columns"
      ],
      "execution_count": 54,
      "outputs": [
        {
          "output_type": "execute_result",
          "data": {
            "text/plain": [
              "Index(['Campaign No.', 'Campaign Name', 'Owner', 'LIFESTAGE', 'LIFESTYLE',\n",
              "       'Total Lead', 'ติดต่อได้', 'Unnamed: 8', 'Unnamed: 9', 'Unnamed: 10',\n",
              "       'Unnamed: 11', 'Unnamed: 12', 'Unnamed: 13', 'Unnamed: 14',\n",
              "       'Unnamed: 15', 'Unnamed: 16', 'Unnamed: 17', 'Unnamed: 18', '%Success',\n",
              "       'Answer', 'No Answer', 'Grand Total', '% Answer', '% No Answer', 'Prod',\n",
              "       'Prod type'],\n",
              "      dtype='object')"
            ]
          },
          "metadata": {
            "tags": []
          },
          "execution_count": 54
        }
      ]
    },
    {
      "cell_type": "code",
      "metadata": {
        "id": "mjuxBaSSOPtj",
        "colab_type": "code",
        "colab": {}
      },
      "source": [
        "CallReport.rename(columns = {'ติดต่อได้':'สมัครบริการ Offer 1', 'Unnamed: 8':'% Success Offer 1', 'Unnamed: 9':'สมัครบริการ Offer 2', \n",
        "                             'Unnamed: 10':'% Success Offer 2', 'Unnamed: 11':'Total สมัครบริการ', 'Unnamed: 12':'Call Back', \n",
        "                             'Unnamed: 13':'Bad Lead', 'Unnamed: 14':'Follow Up', 'Unnamed: 15':'สนใจแต่ติดเงื่อนไข', 'Unnamed: 16':'ปฏิเสธ', \n",
        "                             'Unnamed: 17':'After Sale', 'Unnamed: 18':'สายหลุดระหว่างสนทนา'}, inplace = True).drop(index = 0, axis = 0, inplace = True)"
      ],
      "execution_count": 58,
      "outputs": []
    }
  ]
}
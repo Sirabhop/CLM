{
  "nbformat": 4,
  "nbformat_minor": 0,
  "metadata": {
    "colab": {
      "name": "CLM Administration.ipynb",
      "provenance": [],
      "mount_file_id": "1b2Obob8dp4gxHA8H19PURmM1SodhtEhv",
      "authorship_tag": "ABX9TyN2U1aAHoBV9FDz7FnzY20z",
      "include_colab_link": true
    },
    "kernelspec": {
      "name": "python3",
      "display_name": "Python 3"
    }
  },
  "cells": [
    {
      "cell_type": "markdown",
      "metadata": {
        "id": "view-in-github",
        "colab_type": "text"
      },
      "source": [
        "<a href=\"https://colab.research.google.com/github/Sirabhop/CLM/blob/master/CLM_Administration.ipynb\" target=\"_parent\"><img src=\"https://colab.research.google.com/assets/colab-badge.svg\" alt=\"Open In Colab\"/></a>"
      ]
    },
    {
      "cell_type": "code",
      "metadata": {
        "id": "vXlxdAe3rvpg",
        "colab_type": "code",
        "colab": {}
      },
      "source": [
        "!pip install --upgrade gspread"
      ],
      "execution_count": null,
      "outputs": []
    },
    {
      "cell_type": "code",
      "metadata": {
        "id": "Ql4t_PEj9cyX",
        "colab_type": "code",
        "colab": {}
      },
      "source": [
        "!pip install gspread-pandas"
      ],
      "execution_count": null,
      "outputs": []
    },
    {
      "cell_type": "code",
      "metadata": {
        "id": "_kVOD5ab9RCF",
        "colab_type": "code",
        "colab": {}
      },
      "source": [
        "import pandas as pd\n",
        "import os\n",
        "import gspread\n",
        "import datetime\n",
        "import gspread_pandas"
      ],
      "execution_count": 127,
      "outputs": []
    },
    {
      "cell_type": "markdown",
      "metadata": {
        "id": "oSqOaLgoyE-M",
        "colab_type": "text"
      },
      "source": [
        "####**Connect google spreadsheet**"
      ]
    },
    {
      "cell_type": "code",
      "metadata": {
        "id": "cRnnKiQNJ58m",
        "colab_type": "code",
        "colab": {}
      },
      "source": [
        "gc = gspread.service_account('/content/drive/My Drive/My CLM project/Machine Learning/credential/infinite-deck-288214-a013e2afcf8a.json')\n",
        "sheet = gc.open('CLM Note')\n",
        "\n",
        "worksheet_Admin = sheet.worksheet('Admin')\n",
        "Admin = pd.DataFrame(worksheet_Admin.get_all_records())"
      ],
      "execution_count": 81,
      "outputs": []
    },
    {
      "cell_type": "code",
      "metadata": {
        "id": "mHKgOqjV2fhM",
        "colab_type": "code",
        "colab": {
          "base_uri": "https://localhost:8080/",
          "height": 34
        },
        "outputId": "60c7a0a3-dfbb-4c3b-b05b-88ab36f2e8ed"
      },
      "source": [
        "worksheet_Admin"
      ],
      "execution_count": 70,
      "outputs": [
        {
          "output_type": "execute_result",
          "data": {
            "text/plain": [
              "<Worksheet 'Admin' id:385677>"
            ]
          },
          "metadata": {
            "tags": []
          },
          "execution_count": 70
        }
      ]
    },
    {
      "cell_type": "markdown",
      "metadata": {
        "id": "GHcEO-jJyJ29",
        "colab_type": "text"
      },
      "source": [
        "####**Call Report from telesales**"
      ]
    },
    {
      "cell_type": "code",
      "metadata": {
        "id": "dAhWJIEE9cp1",
        "colab_type": "code",
        "colab": {}
      },
      "source": [
        "os.chdir(\"/content/drive/My Drive/My CLM project/Machine Learning\")"
      ],
      "execution_count": 3,
      "outputs": []
    },
    {
      "cell_type": "code",
      "metadata": {
        "id": "aZkU4vRGKPR_",
        "colab_type": "code",
        "colab": {}
      },
      "source": [
        "usecols = range(1,27)\n",
        "CallReport = pd.read_excel(\"Call Report CLM Date 01-30 Aug 2020.xlsx\", header = 2,\n",
        "                           usecols = usecols)\n",
        "\n",
        "CallReport.iloc[0, 6:17].values"
      ],
      "execution_count": 4,
      "outputs": []
    },
    {
      "cell_type": "code",
      "metadata": {
        "id": "mjuxBaSSOPtj",
        "colab_type": "code",
        "colab": {}
      },
      "source": [
        "CallReport.rename(columns = {'ติดต่อได้':'สมัครบริการ Offer 1', 'Unnamed: 8':'% Success Offer 1', 'Unnamed: 9':'สมัครบริการ Offer 2', \n",
        "                             'Unnamed: 10':'% Success Offer 2', 'Unnamed: 11':'Total สมัครบริการ', 'Unnamed: 12':'Call Back', \n",
        "                             'Unnamed: 13':'Bad Lead', 'Unnamed: 14':'Follow Up', 'Unnamed: 15':'สนใจแต่ติดเงื่อนไข', 'Unnamed: 16':'ปฏิเสธ', \n",
        "                             'Unnamed: 17':'After Sale', 'Unnamed: 18':'สายหลุดระหว่างสนทนา', 'Campaign No.':'Key'}, inplace = True)\n",
        "CallReport.drop(index = 0, axis = 0, inplace = True)\n",
        "CallReport.drop(['Campaign Name', 'LIFESTAGE', 'LIFESTYLE'], axis = 1, inplace = True)"
      ],
      "execution_count": 7,
      "outputs": []
    },
    {
      "cell_type": "markdown",
      "metadata": {
        "id": "4h-1VA8jyBCT",
        "colab_type": "text"
      },
      "source": [
        "####**Jira Ticket**"
      ]
    },
    {
      "cell_type": "code",
      "metadata": {
        "id": "eIjlpSUp4dZ3",
        "colab_type": "code",
        "colab": {}
      },
      "source": [
        "Jira = pd.read_excel('CLM Daily Status Updates for Request Portal as of 9_2_2020.xlsx', sheet_name = 'JIRA Ticket')\n",
        "Jira.drop(['Summary', 'Assignee', 'Resolution', 'Reject Reason', 'Reject Reason (Others)',\n",
        "           'Waiting Reason', 'Resolved', 'Swimlane', 'CLM Code', 'Created', 'Updated',\n",
        "           'Resolved Date', 'Reference Key'], axis = 1, inplace = True)"
      ],
      "execution_count": 42,
      "outputs": []
    },
    {
      "cell_type": "code",
      "metadata": {
        "id": "fQRhNE6P4P-g",
        "colab_type": "code",
        "colab": {
          "base_uri": "https://localhost:8080/",
          "height": 323
        },
        "outputId": "2a7d2721-167a-4e41-ad48-4d57abbfa398"
      },
      "source": [
        "Jira.head()"
      ],
      "execution_count": 90,
      "outputs": [
        {
          "output_type": "execute_result",
          "data": {
            "text/html": [
              "<div>\n",
              "<style scoped>\n",
              "    .dataframe tbody tr th:only-of-type {\n",
              "        vertical-align: middle;\n",
              "    }\n",
              "\n",
              "    .dataframe tbody tr th {\n",
              "        vertical-align: top;\n",
              "    }\n",
              "\n",
              "    .dataframe thead th {\n",
              "        text-align: right;\n",
              "    }\n",
              "</style>\n",
              "<table border=\"1\" class=\"dataframe\">\n",
              "  <thead>\n",
              "    <tr style=\"text-align: right;\">\n",
              "      <th></th>\n",
              "      <th>Key</th>\n",
              "      <th>Status</th>\n",
              "      <th>Lifestage Name</th>\n",
              "      <th>Lifestyle Name</th>\n",
              "      <th>Request Channel</th>\n",
              "      <th>CLM Request Type</th>\n",
              "      <th>Campaign Channel</th>\n",
              "      <th>Total Leads</th>\n",
              "      <th>Create Date</th>\n",
              "      <th>Telesale Project Name</th>\n",
              "      <th>Preferred Campaign Launch</th>\n",
              "      <th>Product Catelog</th>\n",
              "    </tr>\n",
              "  </thead>\n",
              "  <tbody>\n",
              "    <tr>\n",
              "      <th>0</th>\n",
              "      <td>CLM-7118</td>\n",
              "      <td>00. Backlog</td>\n",
              "      <td>Experienced Professional Rural</td>\n",
              "      <td>Low Usage</td>\n",
              "      <td>Request Portal</td>\n",
              "      <td>Campaign</td>\n",
              "      <td>SMS Broadcast</td>\n",
              "      <td>NaN</td>\n",
              "      <td>2020-09-02</td>\n",
              "      <td>NaN</td>\n",
              "      <td>NaT</td>\n",
              "      <td>NaN</td>\n",
              "    </tr>\n",
              "    <tr>\n",
              "      <th>1</th>\n",
              "      <td>CLM-7117</td>\n",
              "      <td>00. Backlog</td>\n",
              "      <td>Family with Grown-up Kid</td>\n",
              "      <td>Education</td>\n",
              "      <td>Request Portal</td>\n",
              "      <td>Campaign</td>\n",
              "      <td>Call-Center</td>\n",
              "      <td>NaN</td>\n",
              "      <td>2020-09-02</td>\n",
              "      <td>UTMH4G+SharePlan1099OnPosPreMGMNP</td>\n",
              "      <td>NaT</td>\n",
              "      <td>NaN</td>\n",
              "    </tr>\n",
              "    <tr>\n",
              "      <th>2</th>\n",
              "      <td>CLM-7116</td>\n",
              "      <td>00. Backlog</td>\n",
              "      <td>University</td>\n",
              "      <td>Music</td>\n",
              "      <td>Request Portal</td>\n",
              "      <td>Campaign</td>\n",
              "      <td>SMS Campaign</td>\n",
              "      <td>NaN</td>\n",
              "      <td>2020-09-02</td>\n",
              "      <td>NaN</td>\n",
              "      <td>NaT</td>\n",
              "      <td>NaN</td>\n",
              "    </tr>\n",
              "    <tr>\n",
              "      <th>3</th>\n",
              "      <td>CLM-7115</td>\n",
              "      <td>00. Backlog</td>\n",
              "      <td>University</td>\n",
              "      <td>Movie Streamer</td>\n",
              "      <td>Request Portal</td>\n",
              "      <td>Campaign</td>\n",
              "      <td>SMS Broadcast</td>\n",
              "      <td>NaN</td>\n",
              "      <td>2020-09-02</td>\n",
              "      <td>NaN</td>\n",
              "      <td>NaT</td>\n",
              "      <td>NaN</td>\n",
              "    </tr>\n",
              "    <tr>\n",
              "      <th>4</th>\n",
              "      <td>CLM-7114</td>\n",
              "      <td>00. Backlog</td>\n",
              "      <td>Heavy Duty</td>\n",
              "      <td>Digital Trendy</td>\n",
              "      <td>Request Portal</td>\n",
              "      <td>Campaign</td>\n",
              "      <td>SMS Broadcast</td>\n",
              "      <td>NaN</td>\n",
              "      <td>2020-09-02</td>\n",
              "      <td>NaN</td>\n",
              "      <td>NaT</td>\n",
              "      <td>NaN</td>\n",
              "    </tr>\n",
              "  </tbody>\n",
              "</table>\n",
              "</div>"
            ],
            "text/plain": [
              "        Key       Status  ... Preferred Campaign Launch Product Catelog\n",
              "0  CLM-7118  00. Backlog  ...                       NaT             NaN\n",
              "1  CLM-7117  00. Backlog  ...                       NaT             NaN\n",
              "2  CLM-7116  00. Backlog  ...                       NaT             NaN\n",
              "3  CLM-7115  00. Backlog  ...                       NaT             NaN\n",
              "4  CLM-7114  00. Backlog  ...                       NaT             NaN\n",
              "\n",
              "[5 rows x 12 columns]"
            ]
          },
          "metadata": {
            "tags": []
          },
          "execution_count": 90
        }
      ]
    },
    {
      "cell_type": "code",
      "metadata": {
        "id": "Qxr3prG65SlI",
        "colab_type": "code",
        "colab": {
          "base_uri": "https://localhost:8080/",
          "height": 340
        },
        "outputId": "18ac1e4c-bdfb-4979-d902-7b21dfb8da79"
      },
      "source": [
        "Jira.info()"
      ],
      "execution_count": 110,
      "outputs": [
        {
          "output_type": "stream",
          "text": [
            "<class 'pandas.core.frame.DataFrame'>\n",
            "RangeIndex: 7009 entries, 0 to 7008\n",
            "Data columns (total 12 columns):\n",
            " #   Column                     Non-Null Count  Dtype         \n",
            "---  ------                     --------------  -----         \n",
            " 0   Key                        7009 non-null   object        \n",
            " 1   Status                     6585 non-null   object        \n",
            " 2   Lifestage Name             6549 non-null   object        \n",
            " 3   Lifestyle Name             6585 non-null   object        \n",
            " 4   Request Channel            7009 non-null   object        \n",
            " 5   CLM Request Type           7008 non-null   object        \n",
            " 6   Campaign Channel           6844 non-null   object        \n",
            " 7   Total Leads                3178 non-null   float64       \n",
            " 8   Create Date                6585 non-null   datetime64[ns]\n",
            " 9   Telesale Project Name      3424 non-null   object        \n",
            " 10  Preferred Campaign Launch  3028 non-null   datetime64[ns]\n",
            " 11  Product Catelog            5000 non-null   object        \n",
            "dtypes: datetime64[ns](2), float64(1), object(9)\n",
            "memory usage: 657.2+ KB\n"
          ],
          "name": "stdout"
        }
      ]
    },
    {
      "cell_type": "code",
      "metadata": {
        "id": "Rw0s1i534R3-",
        "colab_type": "code",
        "colab": {}
      },
      "source": [
        "Jira['Create Date'] = pd.to_datetime(Jira['Create Date'], format = '%Y-%m-%d')"
      ],
      "execution_count": 108,
      "outputs": []
    },
    {
      "cell_type": "markdown",
      "metadata": {
        "id": "moIMs2a0yQ6T",
        "colab_type": "text"
      },
      "source": [
        "####**Integrate Jira, Call Report, & Spreadsheet**"
      ]
    },
    {
      "cell_type": "code",
      "metadata": {
        "id": "SW4gqvXH6Qx_",
        "colab_type": "code",
        "colab": {}
      },
      "source": [
        "df = Jira.merge(CallReport, on = 'Key', how = 'outer')"
      ],
      "execution_count": 9,
      "outputs": []
    },
    {
      "cell_type": "code",
      "metadata": {
        "id": "-xtPmyAQG7Oj",
        "colab_type": "code",
        "colab": {}
      },
      "source": [
        "df2 = df[['Key', 'Status', 'Lifestyle Name', 'Lifestage Name', 'CLM Request Type', 'Total Leads', 'Created', 'Telesale Project Name', 'Preferred Campaign Launch',\n",
        "   '%Success', 'Grand Total']]"
      ],
      "execution_count": 11,
      "outputs": []
    },
    {
      "cell_type": "code",
      "metadata": {
        "id": "3anmovHJG4Jl",
        "colab_type": "code",
        "colab": {
          "base_uri": "https://localhost:8080/",
          "height": 119
        },
        "outputId": "f4071b4f-1eec-4961-eccc-437affa9fd69"
      },
      "source": [
        "df2['Progress'] = df['Grand Total']/df['Total Leads']"
      ],
      "execution_count": 12,
      "outputs": [
        {
          "output_type": "stream",
          "text": [
            "/usr/local/lib/python3.6/dist-packages/ipykernel_launcher.py:1: SettingWithCopyWarning: \n",
            "A value is trying to be set on a copy of a slice from a DataFrame.\n",
            "Try using .loc[row_indexer,col_indexer] = value instead\n",
            "\n",
            "See the caveats in the documentation: https://pandas.pydata.org/pandas-docs/stable/user_guide/indexing.html#returning-a-view-versus-a-copy\n",
            "  \"\"\"Entry point for launching an IPython kernel.\n"
          ],
          "name": "stderr"
        }
      ]
    },
    {
      "cell_type": "code",
      "metadata": {
        "id": "LW95kPaozEq2",
        "colab_type": "code",
        "colab": {}
      },
      "source": [
        "to_upload = pd.merge(Admin, df2[['Status', 'Total Leads', 'Preferred Campaign Launch', '%Success', \n",
        "                'Grand Total', 'Progress', 'Key']], how = 'inner', on = 'Key')"
      ],
      "execution_count": null,
      "outputs": []
    },
    {
      "cell_type": "code",
      "metadata": {
        "id": "SgMqnF-627jW",
        "colab_type": "code",
        "colab": {}
      },
      "source": [
        "to_upload['Preferred Campaign Launch'] = to_upload['Preferred Campaign Launch'].astype(str)"
      ],
      "execution_count": 118,
      "outputs": []
    },
    {
      "cell_type": "code",
      "metadata": {
        "id": "J6srplrM4LRt",
        "colab_type": "code",
        "colab": {
          "base_uri": "https://localhost:8080/",
          "height": 527
        },
        "outputId": "f8509543-485c-4246-8118-314590dfc10d"
      },
      "source": [
        "to_upload.info()"
      ],
      "execution_count": 119,
      "outputs": [
        {
          "output_type": "stream",
          "text": [
            "<class 'pandas.core.frame.DataFrame'>\n",
            "Int64Index: 21 entries, 0 to 20\n",
            "Data columns (total 23 columns):\n",
            " #   Column                     Non-Null Count  Dtype  \n",
            "---  ------                     --------------  -----  \n",
            " 0   Key                        21 non-null     object \n",
            " 1   C                          21 non-null     object \n",
            " 2   Type                       21 non-null     object \n",
            " 3   Campaign                   21 non-null     object \n",
            " 4   CLM catalog                21 non-null     object \n",
            " 5   KMS                        21 non-null     object \n",
            " 6   SEP                        21 non-null     object \n",
            " 7   OCT                        21 non-null     object \n",
            " 8   NOV                        21 non-null     object \n",
            " 9   DEC                        21 non-null     object \n",
            " 10  Total Lead                 21 non-null     object \n",
            " 11  Actual Lead                21 non-null     object \n",
            " 12  Start                      21 non-null     object \n",
            " 13  End                        21 non-null     object \n",
            " 14  Preferred                  21 non-null     object \n",
            " 15  Period                     21 non-null     object \n",
            " 16  Urgency                    21 non-null     object \n",
            " 17  Status                     21 non-null     object \n",
            " 18  Total Leads                7 non-null      float64\n",
            " 19  Preferred Campaign Launch  21 non-null     object \n",
            " 20  %Success                   3 non-null      float64\n",
            " 21  Grand Total                3 non-null      float64\n",
            " 22  Progress                   3 non-null      float64\n",
            "dtypes: float64(4), object(19)\n",
            "memory usage: 3.9+ KB\n"
          ],
          "name": "stdout"
        }
      ]
    },
    {
      "cell_type": "code",
      "metadata": {
        "id": "W-uHBHYC0X5e",
        "colab_type": "code",
        "colab": {}
      },
      "source": [
        "gspread_pandas.Spread.df_to_sheet(df = to_upload)"
      ],
      "execution_count": null,
      "outputs": []
    }
  ]
}